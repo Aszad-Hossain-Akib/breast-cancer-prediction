{
  "nbformat": 4,
  "nbformat_minor": 0,
  "metadata": {
    "colab": {
      "provenance": [],
      "authorship_tag": "ABX9TyMpGsUtyzhJxrKM03xtONaA",
      "include_colab_link": true
    },
    "kernelspec": {
      "name": "python3",
      "display_name": "Python 3"
    },
    "language_info": {
      "name": "python"
    }
  },
  "cells": [
    {
      "cell_type": "markdown",
      "metadata": {
        "id": "view-in-github",
        "colab_type": "text"
      },
      "source": [
        "<a href=\"https://colab.research.google.com/github/Aszad-Hossain-Akib/breast-cancer-prediction/blob/main/Breast_cancer_prediction.ipynb\" target=\"_parent\"><img src=\"https://colab.research.google.com/assets/colab-badge.svg\" alt=\"Open In Colab\"/></a>"
      ]
    },
    {
      "cell_type": "markdown",
      "source": [
        "\n",
        "Import Libraries"
      ],
      "metadata": {
        "id": "bXxtPux8ocUX"
      }
    },
    {
      "cell_type": "code",
      "execution_count": 1,
      "metadata": {
        "id": "GViiTKmiHl0H"
      },
      "outputs": [],
      "source": [
        "import pandas as pd\n",
        "import seaborn as sns"
      ]
    },
    {
      "cell_type": "markdown",
      "source": [
        "Download dataset from kaggle"
      ],
      "metadata": {
        "id": "l2hdZqHgoZjB"
      }
    },
    {
      "cell_type": "code",
      "source": [
        "#set kaggle API credentials\n",
        "import os\n",
        "os.environ['KAGGLE_USERNAME'] = 'aszadhossainakib'\n",
        "os.environ['KAGGLE_KEY'] = '181b6462fbb7af75f1433e020968ed3d'"
      ],
      "metadata": {
        "id": "Vn-OF4WeoyJv"
      },
      "execution_count": null,
      "outputs": []
    },
    {
      "cell_type": "code",
      "source": [
        "#download dataset\n",
        "! kaggle datasets download -d uciml/breast-cancer-wisconsin-data"
      ],
      "metadata": {
        "id": "izT3NMjPo9IQ"
      },
      "execution_count": null,
      "outputs": []
    },
    {
      "cell_type": "code",
      "source": [
        "#unzip file\n",
        "! unzip /content/breast-cancer-wisconsin-data.zip"
      ],
      "metadata": {
        "id": "2Z-cxYD0o_Z3"
      },
      "execution_count": null,
      "outputs": []
    },
    {
      "cell_type": "markdown",
      "source": [
        "Load and Explore data"
      ],
      "metadata": {
        "id": "LCTUj4E7q3ib"
      }
    },
    {
      "cell_type": "code",
      "source": [
        "#load data on dataframe\n",
        "df = pd.read_csv('/content/data.csv')"
      ],
      "metadata": {
        "id": "7Fx43gyIqs0T"
      },
      "execution_count": 4,
      "outputs": []
    },
    {
      "cell_type": "code",
      "source": [
        "#display dataframe\n",
        "df.head()"
      ],
      "metadata": {
        "id": "zGlFEUHCq8jT"
      },
      "execution_count": null,
      "outputs": []
    },
    {
      "cell_type": "code",
      "source": [
        "#count of rows and and columns\n",
        "df.shape"
      ],
      "metadata": {
        "id": "mdmLHYhzq-y7"
      },
      "execution_count": null,
      "outputs": []
    },
    {
      "cell_type": "code",
      "source": [
        "#count number of null(empty) values\n",
        "df.isna().sum()"
      ],
      "metadata": {
        "id": "HcowV4K9rDXb"
      },
      "execution_count": null,
      "outputs": []
    },
    {
      "cell_type": "code",
      "source": [
        "# Drop the column with null values\n",
        "df.dropna(axis=1, inplace=True)"
      ],
      "metadata": {
        "id": "bCXO4VDnrJDb"
      },
      "execution_count": 9,
      "outputs": []
    },
    {
      "cell_type": "code",
      "source": [
        "#count of rows and columns\n",
        "df.shape"
      ],
      "metadata": {
        "id": "cVi3rVIvrOP0"
      },
      "execution_count": null,
      "outputs": []
    },
    {
      "cell_type": "code",
      "source": [
        "#Get count of number of M or B cells in diagnosis\n",
        "df['diagnosis'].value_counts()"
      ],
      "metadata": {
        "id": "SW3ARg4lrUkN"
      },
      "execution_count": null,
      "outputs": []
    },
    {
      "cell_type": "markdown",
      "source": [
        "Label Encoding"
      ],
      "metadata": {
        "id": "-20JHPQFs5L3"
      }
    },
    {
      "cell_type": "code",
      "source": [
        "#Get Datatypes of each column in our dataset\n",
        "df.dtypes"
      ],
      "metadata": {
        "id": "Qs7OtMWDs2-V"
      },
      "execution_count": null,
      "outputs": []
    },
    {
      "cell_type": "code",
      "source": [
        "# Encode the diagnosis values\n",
        "from sklearn.preprocessing import LabelEncoder\n",
        "labelencoder = LabelEncoder()\n",
        "df.iloc[:,1]=labelencoder.fit_transform(df.iloc[:,1].values)"
      ],
      "metadata": {
        "id": "WDhdhrlUtJB2"
      },
      "execution_count": 15,
      "outputs": []
    },
    {
      "cell_type": "code",
      "source": [
        "# display df\n",
        "df"
      ],
      "metadata": {
        "id": "9WhUjJJovpcj"
      },
      "execution_count": null,
      "outputs": []
    },
    {
      "cell_type": "markdown",
      "source": [
        "Split Dataset and Feature Scaling"
      ],
      "metadata": {
        "id": "LJX94pAowGOs"
      }
    },
    {
      "cell_type": "code",
      "source": [
        "# Splitting the dataset into independent and dependent datasets\n",
        "X = df.iloc[:,2:].values\n",
        "Y = df.iloc[:,1].values"
      ],
      "metadata": {
        "id": "qQpeHuY9wBLG"
      },
      "execution_count": 17,
      "outputs": []
    },
    {
      "source": [
        "# Splittin g datastes into training(75%) and teting (25%)\n",
        "from sklearn.model_selection import train_test_split #Fixed typo here: sklearn instead of sklewarn\n",
        "X_train,X_test,Y_train,Y_test = train_test_split(X,Y,test_size=0.25)"
      ],
      "cell_type": "code",
      "metadata": {
        "id": "y9IKQbps1uSU"
      },
      "execution_count": 27,
      "outputs": []
    },
    {
      "cell_type": "code",
      "source": [
        "# Scaling the data (feature Scaling)\n",
        "from sklearn.preprocessing import StandardScaler\n",
        "sc = StandardScaler()\n",
        "X_train = sc.fit_transform(X_train)\n",
        "X_test = sc.fit_transform(X_test)"
      ],
      "metadata": {
        "id": "WeUZDiUgwbDT"
      },
      "execution_count": 30,
      "outputs": []
    },
    {
      "cell_type": "code",
      "source": [
        "#Print data\n",
        "X_train"
      ],
      "metadata": {
        "id": "VfT9-Kd9wgSr"
      },
      "execution_count": null,
      "outputs": []
    },
    {
      "cell_type": "markdown",
      "source": [
        "Build a logistic Regression Model"
      ],
      "metadata": {
        "id": "KlmgBmsv2ACt"
      }
    },
    {
      "source": [
        "#build logistic regression classifier\n",
        "from sklearn.linear_model import LogisticRegression\n",
        "classifier = LogisticRegression() #Fixed typo here: classifier instead of classsifier\n",
        "classifier.fit(X_train,Y_train)\n",
        "\n",
        "# make use of trained model to make prediction on test data\n",
        "predictions = classifier.predict(X_test)"
      ],
      "cell_type": "code",
      "metadata": {
        "id": "LmrmS9KM6gGK"
      },
      "execution_count": 43,
      "outputs": []
    },
    {
      "cell_type": "markdown",
      "source": [
        "Performance Evaluation"
      ],
      "metadata": {
        "id": "deQe-M_B8NyG"
      }
    },
    {
      "source": [
        "# plot confusion matrix\n",
        "from sklearn.metrics import confusion_matrix\n",
        "import seaborn as sns\n",
        "# Convert Y_test and predictions to integers to ensure consistency\n",
        "Y_test = Y_test.astype(int)  #This change solves the issue of inconsistent data types\n",
        "predictions = predictions.astype(int) #This change solves the issue of inconsistent data types\n",
        "cm = confusion_matrix(Y_test,predictions)\n",
        "print(cm)\n",
        "sns.heatmap(cm,annot=True)"
      ],
      "cell_type": "code",
      "metadata": {
        "id": "h3KStzwX7Jnt"
      },
      "execution_count": null,
      "outputs": []
    },
    {
      "cell_type": "code",
      "source": [
        "#get accuracy score for model\n",
        "from sklearn.metrics import accuracy_score\n",
        "print(accuracy_score(Y_test,predictions))"
      ],
      "metadata": {
        "id": "xF3Tzu4Y7C1r"
      },
      "execution_count": null,
      "outputs": []
    },
    {
      "cell_type": "code",
      "source": [
        "print(Y_test)"
      ],
      "metadata": {
        "id": "j_c7gXJe7nl0"
      },
      "execution_count": null,
      "outputs": []
    },
    {
      "cell_type": "code",
      "source": [
        "print(predictions)"
      ],
      "metadata": {
        "id": "aGsVVMJc78AF"
      },
      "execution_count": null,
      "outputs": []
    },
    {
      "cell_type": "code",
      "source": [],
      "metadata": {
        "id": "_o8iF9i68AdV"
      },
      "execution_count": null,
      "outputs": []
    }
  ]
}